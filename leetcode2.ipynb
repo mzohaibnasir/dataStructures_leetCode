{
 "cells": [
  {
   "cell_type": "markdown",
   "id": "577d58f4",
   "metadata": {},
   "source": [
    "# sumsTwo "
   ]
  },
  {
   "cell_type": "code",
   "execution_count": 20,
   "id": "e98cfe56",
   "metadata": {},
   "outputs": [],
   "source": [
    "nums = [16, 4, 23 , 8, 15, 42, 1, 2]\n",
    "target=19"
   ]
  },
  {
   "cell_type": "code",
   "execution_count": 21,
   "id": "1509eaec",
   "metadata": {},
   "outputs": [
    {
     "name": "stdout",
     "output_type": "stream",
     "text": [
      "[1, 2, 4, 8, 15, 16, 23, 42]\n"
     ]
    }
   ],
   "source": [
    "nums.sort()\n",
    "print(nums)"
   ]
  },
  {
   "cell_type": "code",
   "execution_count": 22,
   "id": "f065a9dd",
   "metadata": {},
   "outputs": [],
   "source": [
    "p= 0\n",
    "q = len(nums)-1"
   ]
  },
  {
   "cell_type": "code",
   "execution_count": 23,
   "id": "39700576",
   "metadata": {},
   "outputs": [
    {
     "data": {
      "text/plain": [
       "42"
      ]
     },
     "execution_count": 23,
     "metadata": {},
     "output_type": "execute_result"
    }
   ],
   "source": [
    "nums[q]"
   ]
  },
  {
   "cell_type": "code",
   "execution_count": 24,
   "id": "512708d7",
   "metadata": {},
   "outputs": [],
   "source": [
    "# if( nums[p] + nums[q] > target) and nums[q] > target :\n",
    "#     q-=1"
   ]
  },
  {
   "cell_type": "code",
   "execution_count": 25,
   "id": "7030fb90",
   "metadata": {},
   "outputs": [
    {
     "name": "stdout",
     "output_type": "stream",
     "text": [
      "2 + 16  = 18\n",
      "4 + 16  = 20\n",
      "8 + 15  = 23\n",
      "15 + 8  = 23\n",
      "16 + 4  = 20\n",
      "23 + 2  = 25\n",
      "42 + 1  = 43\n",
      "42 + 23  = 65\n"
     ]
    },
    {
     "ename": "IndexError",
     "evalue": "list index out of range",
     "output_type": "error",
     "traceback": [
      "\u001b[0;31m---------------------------------------------------------------------------\u001b[0m",
      "\u001b[0;31mIndexError\u001b[0m                                Traceback (most recent call last)",
      "Cell \u001b[0;32mIn[25], line 15\u001b[0m\n\u001b[1;32m     12\u001b[0m \u001b[38;5;28;01mif\u001b[39;00m  nums[q]\u001b[38;5;241m<\u001b[39mtarget:\n\u001b[1;32m     13\u001b[0m     p\u001b[38;5;241m+\u001b[39m\u001b[38;5;241m=\u001b[39m\u001b[38;5;241m1\u001b[39m\n\u001b[0;32m---> 15\u001b[0m \u001b[38;5;28mprint\u001b[39m(\u001b[38;5;124mf\u001b[39m\u001b[38;5;124m\"\u001b[39m\u001b[38;5;132;01m{\u001b[39;00m\u001b[43mnums\u001b[49m\u001b[43m[\u001b[49m\u001b[43mp\u001b[49m\u001b[43m]\u001b[49m\u001b[38;5;132;01m}\u001b[39;00m\u001b[38;5;124m + \u001b[39m\u001b[38;5;132;01m{\u001b[39;00mnums[q]\u001b[38;5;132;01m}\u001b[39;00m\u001b[38;5;124m  = \u001b[39m\u001b[38;5;132;01m{\u001b[39;00mnums[p]\u001b[38;5;250m \u001b[39m\u001b[38;5;241m+\u001b[39m\u001b[38;5;250m \u001b[39mnums[q]\u001b[38;5;132;01m}\u001b[39;00m\u001b[38;5;124m\"\u001b[39m)\n",
      "\u001b[0;31mIndexError\u001b[0m: list index out of range"
     ]
    }
   ],
   "source": [
    "while( nums[p] + nums[q] != target):\n",
    "#     if( nums[p] + nums[q] > target) and nums[q] > target :\n",
    "#         q-=1\n",
    "#     if( nums[p] + nums[q] > target) and nums[q] < target :\n",
    "#         p+=1\n",
    "    if( nums[p] + nums[q] > target) :\n",
    "        q-=1\n",
    "        \n",
    "        \n",
    "    if  nums[q] > target:\n",
    "        q-=1\n",
    "    if  nums[q]<target:\n",
    "        p+=1\n",
    "    \n",
    "    print(f\"{nums[p]} + {nums[q]}  = {nums[p] + nums[q]}\")"
   ]
  },
  {
   "cell_type": "code",
   "execution_count": null,
   "id": "bc82105e",
   "metadata": {},
   "outputs": [],
   "source": [
    "if(target - )"
   ]
  },
  {
   "cell_type": "code",
   "execution_count": null,
   "id": "210a3235",
   "metadata": {},
   "outputs": [],
   "source": []
  },
  {
   "cell_type": "code",
   "execution_count": null,
   "id": "3fd6675d",
   "metadata": {},
   "outputs": [],
   "source": []
  },
  {
   "cell_type": "code",
   "execution_count": null,
   "id": "4c95e225",
   "metadata": {},
   "outputs": [],
   "source": [
    "if( nums[p] + nums[q] > target) and p<10:\n",
    "    p+=1"
   ]
  },
  {
   "cell_type": "code",
   "execution_count": null,
   "id": "23ead198",
   "metadata": {},
   "outputs": [],
   "source": []
  },
  {
   "cell_type": "code",
   "execution_count": null,
   "id": "cb149fd3",
   "metadata": {},
   "outputs": [],
   "source": []
  },
  {
   "cell_type": "code",
   "execution_count": 44,
   "id": "39e7c989",
   "metadata": {},
   "outputs": [],
   "source": [
    "dict={}"
   ]
  },
  {
   "cell_type": "code",
   "execution_count": 49,
   "id": "aefe8da4",
   "metadata": {},
   "outputs": [],
   "source": [
    "nums = [16, 4, 23 , 8, 15, 42, 1, 2]\n",
    "target=58"
   ]
  },
  {
   "cell_type": "code",
   "execution_count": 50,
   "id": "dd6cf2a6",
   "metadata": {},
   "outputs": [
    {
     "name": "stdout",
     "output_type": "stream",
     "text": [
      "[1, 2, 4, 8, 15, 16, 23, 42]\n"
     ]
    }
   ],
   "source": [
    "nums.sort()\n",
    "print(nums)"
   ]
  },
  {
   "cell_type": "code",
   "execution_count": 51,
   "id": "96dace2d",
   "metadata": {},
   "outputs": [
    {
     "name": "stdout",
     "output_type": "stream",
     "text": [
      "[(1, 0)]\n",
      "[(1, 0)]\n",
      "[(1, 0), (2, 1)]\n",
      "[(1, 0), (2, 1), (4, 2)]\n",
      "[(1, 0), (2, 1), (4, 2), (8, 3)]\n",
      "[(1, 0), (2, 1), (4, 2), (8, 3), (15, 4)]\n",
      "[(1, 0), (2, 1), (4, 2), (8, 3), (15, 4), (16, 5)]\n",
      "[(1, 0), (2, 1), (4, 2), (8, 3), (15, 4), (16, 5), (23, 6)]\n"
     ]
    },
    {
     "data": {
      "text/plain": [
       "(7, 5)"
      ]
     },
     "execution_count": 51,
     "metadata": {},
     "output_type": "execute_result"
    }
   ],
   "source": [
    "def fn(nums):\n",
    "    for i,val in enumerate(nums):\n",
    "        print([(i,j) for i,j in dict.items()])\n",
    "        if (target - val) in dict.keys():\n",
    "            return (i, dict[target-val])\n",
    "        else:    \n",
    "            dict[val] = i\n",
    "fn(nums)"
   ]
  },
  {
   "cell_type": "code",
   "execution_count": 5,
   "id": "58ba2d5b",
   "metadata": {},
   "outputs": [
    {
     "name": "stderr",
     "output_type": "stream",
     "text": [
      "UsageError: %%time is a cell magic, but the cell body is empty. Did you mean the line magic %time (single %)?\n"
     ]
    }
   ],
   "source": [
    "%%time"
   ]
  },
  {
   "cell_type": "code",
   "execution_count": 10,
   "id": "724494ae",
   "metadata": {},
   "outputs": [
    {
     "name": "stdout",
     "output_type": "stream",
     "text": [
      "[1, 2, 4, 8, 15, 16, 23, 42]\n"
     ]
    }
   ],
   "source": [
    "nums = [16, 4, 23 , 8, 15, 42, 1, 2]\n",
    "target=58\n",
    "nums.sort()\n",
    "print(nums)"
   ]
  },
  {
   "cell_type": "code",
   "execution_count": 23,
   "id": "379e6057",
   "metadata": {},
   "outputs": [
    {
     "name": "stdout",
     "output_type": "stream",
     "text": [
      "CPU times: user 15 µs, sys: 3 µs, total: 18 µs\n",
      "Wall time: 20.5 µs\n"
     ]
    },
    {
     "data": {
      "text/plain": [
       "(5, 7)"
      ]
     },
     "execution_count": 23,
     "metadata": {},
     "output_type": "execute_result"
    }
   ],
   "source": [
    "%%time\n",
    "\n",
    "\n",
    "def fn(nums):\n",
    "    dic=dict()\n",
    "\n",
    "    for i in range(len(nums)):\n",
    "        if( (target - nums[i]) in dic.keys() ):\n",
    "            return (dic[target - nums[i]], i)\n",
    "        else:\n",
    "            dic[nums[i]] = i\n",
    "fn(nums)        "
   ]
  },
  {
   "cell_type": "code",
   "execution_count": 24,
   "id": "b4d1edc6",
   "metadata": {},
   "outputs": [
    {
     "name": "stdout",
     "output_type": "stream",
     "text": [
      "CPU times: user 12 µs, sys: 0 ns, total: 12 µs\n",
      "Wall time: 13.8 µs\n"
     ]
    },
    {
     "data": {
      "text/plain": [
       "(5, 7)"
      ]
     },
     "execution_count": 24,
     "metadata": {},
     "output_type": "execute_result"
    }
   ],
   "source": [
    "%%time\n",
    "\n",
    "\n",
    "def fn(nums):\n",
    "    dic=dict()\n",
    "\n",
    "    for i in range(len(nums)):\n",
    "\n",
    "        rem = target - nums[i]\n",
    "        if( (rem) in dic.keys() ):\n",
    "            return (dic[rem], i)\n",
    "        else:\n",
    "            dic[nums[i]] = i\n",
    "fn(nums)        "
   ]
  },
  {
   "cell_type": "code",
   "execution_count": 1,
   "id": "92f8c9cf",
   "metadata": {},
   "outputs": [
    {
     "name": "stdout",
     "output_type": "stream",
     "text": [
      "CPU times: user 26 µs, sys: 5 µs, total: 31 µs\n",
      "Wall time: 34.1 µs\n"
     ]
    },
    {
     "data": {
      "text/plain": [
       "2"
      ]
     },
     "execution_count": 1,
     "metadata": {},
     "output_type": "execute_result"
    }
   ],
   "source": [
    "%%time\n",
    "prices = [7,1,5,3,6,4]\n",
    "prices =[1,2]\n",
    "def maxProfit(prices):\n",
    "    buy = prices.index(min(prices))\n",
    "#     print(f\"BUY| day:{buy} , value:{prices[buy]}\")\n",
    "    maxProfit = max(prices[buy:])\n",
    "    sell =  prices.index(maxProfit)+1 if(maxProfit>prices[buy])  else 0   # +1 for 0 indexing\n",
    "#     print(f\"SELL| day:{sell} , value:{prices[sell]}\")\n",
    "    \n",
    "#     \n",
    "    return sell\n",
    "\n",
    "maxProfit(prices) "
   ]
  },
  {
   "cell_type": "code",
   "execution_count": 9,
   "id": "4664b1e3",
   "metadata": {},
   "outputs": [
    {
     "name": "stdout",
     "output_type": "stream",
     "text": [
      "BUY| day:0 , value:1\n",
      "0 1\n",
      "CPU times: user 66 µs, sys: 13 µs, total: 79 µs\n",
      "Wall time: 82.3 µs\n"
     ]
    },
    {
     "data": {
      "text/plain": [
       "1"
      ]
     },
     "execution_count": 9,
     "metadata": {},
     "output_type": "execute_result"
    }
   ],
   "source": [
    "%%time\n",
    "prices = [7,1,5,3,6,4]\n",
    "prices =[1,2]\n",
    "def maxProfit(prices):\n",
    "    buy = prices.index(min(prices))\n",
    "    print(f\"BUY| day:{buy} , value:{prices[buy]}\")\n",
    "    sell = prices.index(max(prices[buy:]))\n",
    "#     sell =  prices.index(maxProfit)+1 if(maxProfit>prices[buy])  else 0   # +1 for 0 indexing\n",
    "    print(buy,sell)\n",
    "    profit = prices[sell] - prices[buy]\n",
    "    return profit if(profit) > 0 else 0\n",
    "#     print(f\"SELL| day:{sell} , value:{prices[sell]}\")\n",
    "    \n",
    "#     \n",
    "#     return sell\n",
    "\n",
    "maxProfit(prices) "
   ]
  },
  {
   "cell_type": "code",
   "execution_count": 36,
   "id": "8dcf0fe0",
   "metadata": {},
   "outputs": [
    {
     "data": {
      "text/plain": [
       "1"
      ]
     },
     "execution_count": 36,
     "metadata": {},
     "output_type": "execute_result"
    }
   ],
   "source": [
    "# from memory_profiler import profile\n",
    "# @profile(precision=4)\n",
    "    \n",
    "    \n",
    "    \n",
    "prices = [7,1,5,3,6,4]\n",
    "prices =  [1,2]\n",
    "margin=0\n",
    "left=0;right =1\n",
    "\n",
    "while(right<len(prices)):\n",
    "    if(prices[right] < prices[left]):  # buy at min\n",
    "        left = right \n",
    "    if prices[right] >= prices[left]:\n",
    "        margin =  prices[right] - prices[left] if prices[right] - prices[left] > margin else margin\n",
    "        \n",
    "        right+=1\n",
    "margin\n",
    "    "
   ]
  },
  {
   "cell_type": "code",
   "execution_count": 40,
   "id": "68f961f7",
   "metadata": {},
   "outputs": [
    {
     "data": {
      "text/plain": [
       "1"
      ]
     },
     "execution_count": 40,
     "metadata": {},
     "output_type": "execute_result"
    }
   ],
   "source": [
    "# from memory_profiler import profile\n",
    "# @profile(precision=4)\n",
    "    \n",
    "    \n",
    "    \n",
    "prices = [7,1,5,3,6,4]\n",
    "prices =  [1,2]\n",
    "margin=0\n",
    "left=0;right =1\n",
    "\n",
    "while(right<len(prices)):\n",
    "    if prices[right] > prices[left]:\n",
    "        margin =  max( margin, prices[right] - prices[left]) \n",
    "    else:\n",
    "        left+=1\n",
    "    right+=1\n",
    "margin\n",
    "    "
   ]
  },
  {
   "cell_type": "code",
   "execution_count": null,
   "id": "f5611294",
   "metadata": {},
   "outputs": [],
   "source": []
  }
 ],
 "metadata": {
  "kernelspec": {
   "display_name": "Python [conda env:d2goEnv]",
   "language": "python",
   "name": "conda-env-d2goEnv-py"
  },
  "language_info": {
   "codemirror_mode": {
    "name": "ipython",
    "version": 3
   },
   "file_extension": ".py",
   "mimetype": "text/x-python",
   "name": "python",
   "nbconvert_exporter": "python",
   "pygments_lexer": "ipython3",
   "version": "3.10.9"
  }
 },
 "nbformat": 4,
 "nbformat_minor": 5
}
