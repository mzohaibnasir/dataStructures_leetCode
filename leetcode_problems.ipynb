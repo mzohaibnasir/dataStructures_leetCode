{
 "cells": [
  {
   "cell_type": "markdown",
   "metadata": {},
   "source": [
    "# leetcode 33: Search in Rotated Sorted Array\n"
   ]
  },
  {
   "cell_type": "code",
   "execution_count": 2,
   "metadata": {},
   "outputs": [
    {
     "name": "stdout",
     "output_type": "stream",
     "text": [
      "nums:  [4, 5, 6, 7, 0, 1, 2] target:  2\n"
     ]
    },
    {
     "data": {
      "text/plain": [
       "6"
      ]
     },
     "execution_count": 2,
     "metadata": {},
     "output_type": "execute_result"
    }
   ],
   "source": [
    "def search(nums, target):\n",
    "    \"\"\"\n",
    "    :type nums: List[int]\n",
    "    :type target: int\n",
    "    :rtype: int\n",
    "    \"\"\"\n",
    "    print(\"nums: \", nums, \"target: \", target)\n",
    "\n",
    "    left = 0\n",
    "    right = len(nums) - 1\n",
    "    i = 0\n",
    "\n",
    "    while left <= right:\n",
    "\n",
    "        # avoid overflow\n",
    "        mid = left + (right - left) // 2\n",
    "\n",
    "        if target == nums[mid]:\n",
    "            return mid\n",
    "        # one part must be sorted\n",
    "        if nums[left] <= nums[mid]:\n",
    "            # if right half is sorted\n",
    "            if nums[left] <= target and target <= nums[mid]:\n",
    "                print(\"key is in left half\")\n",
    "\n",
    "                right = mid - 1\n",
    "\n",
    "            else:\n",
    "                left = mid + 1\n",
    "\n",
    "        else:\n",
    "            # if right half is sorted\n",
    "\n",
    "            print(\"right - half is sorted\")\n",
    "            if nums[mid] <= target and target <= nums[right]:\n",
    "                # if key is in left half\n",
    "                left = mid + 1\n",
    "            else:\n",
    "                right = mid - 1\n",
    "\n",
    "    return -1\n",
    "\n",
    "\n",
    "nums = [4, 5, 6, 7, 0, 1, 2]\n",
    "search(nums, target=2)"
   ]
  },
  {
   "cell_type": "code",
   "execution_count": 3,
   "metadata": {},
   "outputs": [
    {
     "data": {
      "text/plain": [
       "6"
      ]
     },
     "execution_count": 3,
     "metadata": {},
     "output_type": "execute_result"
    }
   ],
   "source": [
    "def search(nums, target):\n",
    "    left, right = 0, len(nums) - 1\n",
    "\n",
    "    while left <= right:\n",
    "        mid = left + (right - left) // 2\n",
    "        if nums[mid] == target:\n",
    "            return mid\n",
    "\n",
    "        # one of side must be sorted\n",
    "\n",
    "        # bisecting fo rbinary tree search\n",
    "        if nums[left] <= nums[mid]:\n",
    "            #\n",
    "\n",
    "            # if target is on left\n",
    "            if nums[left] <= target <= nums[mid]:\n",
    "                right = mid - 1\n",
    "            else:\n",
    "                left = mid + 1  # switch to other side\n",
    "        else:\n",
    "\n",
    "            if nums[mid] <= target <= nums[right]:\n",
    "                left = mid + 1\n",
    "            else:\n",
    "                right = mid - 1\n",
    "\n",
    "    return -1\n",
    "\n",
    "\n",
    "nums = [4, 5, 6, 7, 0, 1, 2]\n",
    "search(nums, target=2)"
   ]
  },
  {
   "cell_type": "code",
   "execution_count": null,
   "metadata": {},
   "outputs": [],
   "source": []
  },
  {
   "cell_type": "markdown",
   "metadata": {},
   "source": [
    "# Refined\n"
   ]
  },
  {
   "cell_type": "code",
   "execution_count": 4,
   "metadata": {},
   "outputs": [
    {
     "name": "stdout",
     "output_type": "stream",
     "text": [
      "nums: [4, 5, 6, 7, 0, 1, 2], target:2\n",
      "left: 0, right:6, nums:mid:7\n",
      "going to left bcz target is less than/equal to middle\n",
      "shifting: target is in right part\n",
      "left: 4, right:6, nums:mid:1\n",
      "going to right bcz target is greater than middle\n",
      "confirmed: target is in right part and right part is ordered\n",
      "left: 6, right:6, nums:mid:2\n"
     ]
    },
    {
     "data": {
      "text/plain": [
       "6"
      ]
     },
     "execution_count": 4,
     "metadata": {},
     "output_type": "execute_result"
    }
   ],
   "source": [
    "def search(nums, target):\n",
    "    print(f\"nums: {nums}, target:{target}\")\n",
    "\n",
    "    left = 0\n",
    "    right = len(nums) - 1\n",
    "\n",
    "    while left <= right:\n",
    "        mid = left + (right - left) // 2\n",
    "        print(f\"left: {left}, right:{right}, nums:mid:{nums[mid]}\")\n",
    "        if nums[mid] == target:\n",
    "            return mid\n",
    "\n",
    "        # left side\n",
    "        if target <= nums[mid]:\n",
    "            print(f\"going to left bcz target is less than/equal to middle\")\n",
    "\n",
    "            if nums[left] <= target <= nums[mid]:\n",
    "                print(\"confirmed: target is in left part and left part is ordered\")\n",
    "                right = mid - 1\n",
    "            else:\n",
    "                print(\"shifting: target is in right part\")\n",
    "                left = mid + 1\n",
    "\n",
    "        else:\n",
    "            print(f\"going to right bcz target is greater than middle\")\n",
    "\n",
    "            if nums[mid] <= target <= nums[right]:\n",
    "                print(\"confirmed: target is in right part and right part is ordered\")\n",
    "                left = mid + 1\n",
    "            else:\n",
    "                print(\"shifting: target is in left part\")\n",
    "                right = mid - 1\n",
    "\n",
    "    return -1\n",
    "\n",
    "\n",
    "nums = [4, 5, 6, 7, 0, 1, 2]\n",
    "search(nums, target=2)"
   ]
  },
  {
   "cell_type": "code",
   "execution_count": null,
   "metadata": {},
   "outputs": [],
   "source": []
  },
  {
   "cell_type": "code",
   "execution_count": 5,
   "metadata": {},
   "outputs": [
    {
     "name": "stdout",
     "output_type": "stream",
     "text": [
      "1\n",
      "2\n",
      "3\n",
      "2\n",
      "1\n"
     ]
    }
   ],
   "source": [
    "s = \"dfa12321afd\"\n",
    "s.split()\n",
    "\n",
    "\n",
    "for i in s:\n",
    "    # print(i)\n",
    "    if i.isdigit():\n",
    "        print(i)"
   ]
  },
  {
   "cell_type": "markdown",
   "metadata": {},
   "source": [
    "## 1796. Second Largest Digit in a String\n"
   ]
  },
  {
   "cell_type": "code",
   "execution_count": 6,
   "metadata": {},
   "outputs": [
    {
     "name": "stdout",
     "output_type": "stream",
     "text": [
      "2\n"
     ]
    }
   ],
   "source": [
    "s = \"abc1123\"\n",
    "numeric = [int(i) for i in s if i.isdigit()]\n",
    "\n",
    "\n",
    "max = -1\n",
    "secondMax = -1\n",
    "for n in numeric:\n",
    "    if n > max:\n",
    "        secondMax = max\n",
    "        max = n\n",
    "    elif n > secondMax and n < max:\n",
    "        secondMax = n\n",
    "print(secondMax)"
   ]
  },
  {
   "cell_type": "code",
   "execution_count": null,
   "metadata": {},
   "outputs": [],
   "source": []
  },
  {
   "cell_type": "markdown",
   "metadata": {},
   "source": [
    "## 283. Move Zeroes\n"
   ]
  },
  {
   "cell_type": "code",
   "execution_count": 7,
   "metadata": {},
   "outputs": [
    {
     "ename": "NameError",
     "evalue": "name 'swap' is not defined",
     "output_type": "error",
     "traceback": [
      "\u001b[0;31m---------------------------------------------------------------------------\u001b[0m",
      "\u001b[0;31mNameError\u001b[0m                                 Traceback (most recent call last)",
      "Cell \u001b[0;32mIn[7], line 1\u001b[0m\n\u001b[0;32m----> 1\u001b[0m \u001b[43mswap\u001b[49m(nums, \u001b[38;5;241m1\u001b[39m, \u001b[38;5;241m3\u001b[39m)\n",
      "\u001b[0;31mNameError\u001b[0m: name 'swap' is not defined"
     ]
    }
   ],
   "source": [
    "swap(nums, 1, 3)"
   ]
  },
  {
   "cell_type": "code",
   "execution_count": null,
   "metadata": {},
   "outputs": [
    {
     "name": "stdout",
     "output_type": "stream",
     "text": [
      "[1, 3, 12, 0, 0, 0, 0]\n"
     ]
    }
   ],
   "source": [
    "nums = [0, 0, 1, 0, 0, 3, 12]\n",
    "\n",
    "\n",
    "def move_zeros_to_end(arr):\n",
    "    non_zero_pos = 0  # Position to place the next non-zero element\n",
    "\n",
    "    # Iterate through the array\n",
    "    for current in range(len(arr)):\n",
    "        if arr[current] != 0:\n",
    "            # Swap the elements at non_zero_pos and current\n",
    "            arr[non_zero_pos], arr[current] = arr[current], arr[non_zero_pos]\n",
    "            non_zero_pos += 1  # Move the non-zero position to the right\n",
    "\n",
    "    print(arr)\n",
    "\n",
    "\n",
    "move_zeros_to_end(nums)"
   ]
  },
  {
   "cell_type": "code",
   "execution_count": null,
   "metadata": {},
   "outputs": [],
   "source": [
    "# nums = [0, 0, 1, 0, 0, 3, 12]\n",
    "\n",
    "\n",
    "# non_zero_pos = 0\n",
    "\n",
    "\n",
    "# for current in range(len(nums)):\n",
    "\n",
    "#     print(\n",
    "#         f\"idx: {current}, non_zero_pos: {nums[non_zero_pos]}, current: {nums[current]}\"\n",
    "#     )\n",
    "\n",
    "#     if nums[current] != 0:\n",
    "#         # print(current)\n",
    "#         print(f\"non_zero_pos: {nums[non_zero_pos]}, current: {nums[current]}\")\n",
    "#         print(\"\\t entered\")\n",
    "\n",
    "#         print(f\"\\t non_zero_pos: {nums[non_zero_pos]}, current: {nums[current]}\")\n",
    "#         nums[non_zero_pos], nums[current] = nums[current], nums[non_zero_pos]\n",
    "#         non_zero_pos += 1\n",
    "\n",
    "# print(nums)"
   ]
  },
  {
   "cell_type": "code",
   "execution_count": null,
   "metadata": {},
   "outputs": [
    {
     "name": "stdout",
     "output_type": "stream",
     "text": [
      "0\n",
      "0\n",
      "1\n",
      "0\n",
      "0\n",
      "3\n",
      "12\n",
      "[1, 3, 12, 0, 0, 0, 0]\n"
     ]
    }
   ],
   "source": [
    "nums = [0, 0, 1, 0, 0, 3, 12]\n",
    "\n",
    "left = 0  # permanent\n",
    "current = 0\n",
    "\n",
    "\n",
    "while current < len(nums):\n",
    "    print(nums[current])\n",
    "\n",
    "    if nums[current] != 0:\n",
    "        nums[left], nums[current] = nums[current], nums[left]\n",
    "        left += 1\n",
    "\n",
    "    current += 1\n",
    "\n",
    "\n",
    "print(nums)"
   ]
  },
  {
   "cell_type": "code",
   "execution_count": null,
   "metadata": {},
   "outputs": [
    {
     "data": {
      "text/plain": [
       "[1, 3, 12, 0, 0, 0, 0]"
      ]
     },
     "execution_count": 72,
     "metadata": {},
     "output_type": "execute_result"
    }
   ],
   "source": [
    "def moveZeroes(nums):\n",
    "    \"\"\"\n",
    "    :type nums: List[int]\n",
    "    :rtype: None Do not return anything, modify nums in-place instead.\n",
    "    \"\"\"\n",
    "    zero_count = nums.count(0)\n",
    "    l = 0\n",
    "    for n in nums:\n",
    "        if n != 0:\n",
    "            nums[l] = n\n",
    "            l += 1\n",
    "    for zero in range(1, zero_count + 1):\n",
    "        nums[-zero] = 0\n",
    "\n",
    "    return nums\n",
    "\n",
    "\n",
    "moveZeroes(nums)"
   ]
  },
  {
   "cell_type": "code",
   "execution_count": null,
   "metadata": {},
   "outputs": [],
   "source": []
  },
  {
   "cell_type": "code",
   "execution_count": null,
   "metadata": {},
   "outputs": [],
   "source": []
  },
  {
   "cell_type": "code",
   "execution_count": null,
   "metadata": {},
   "outputs": [],
   "source": []
  },
  {
   "cell_type": "code",
   "execution_count": null,
   "metadata": {},
   "outputs": [],
   "source": []
  },
  {
   "cell_type": "code",
   "execution_count": null,
   "metadata": {},
   "outputs": [],
   "source": []
  },
  {
   "cell_type": "markdown",
   "metadata": {},
   "source": [
    "# 7: Given a signed 32-bit integer x, return x with its digits reversed. If reversing x causes the value to go outside the signed 32-bit integer range [-231, 231 - 1], then return 0.\n"
   ]
  },
  {
   "cell_type": "code",
   "execution_count": null,
   "metadata": {},
   "outputs": [
    {
     "data": {
      "text/plain": [
       "-321"
      ]
     },
     "execution_count": 12,
     "metadata": {},
     "output_type": "execute_result"
    }
   ],
   "source": [
    "def reverseInt(x):\n",
    "    sign = 1 if x > 0 else -1\n",
    "    reversed_no = 0\n",
    "    x = abs(x)\n",
    "\n",
    "    while x > 0:\n",
    "        digit = x % 10\n",
    "        x = x // 10\n",
    "        reversed_no = reversed_no * 10 + digit  # 32 = 3 *10 +2\n",
    "\n",
    "    return sign * reversed_no\n",
    "\n",
    "\n",
    "x = -123\n",
    "\n",
    "reverseInt(x)"
   ]
  },
  {
   "cell_type": "code",
   "execution_count": null,
   "metadata": {},
   "outputs": [
    {
     "data": {
      "text/plain": [
       "0"
      ]
     },
     "execution_count": 15,
     "metadata": {},
     "output_type": "execute_result"
    }
   ],
   "source": [
    "def reverseInt(x):\n",
    "\n",
    "    MAX_INT = 2**31 - 1  # 2,147,483,647\n",
    "    MIN_INT = -(2**31)  # -2,147,483,648\n",
    "\n",
    "    sign = 1 if x > 0 else -1\n",
    "    reversed_no = 0\n",
    "    x = abs(x)\n",
    "\n",
    "    while x > 0:\n",
    "        if (\n",
    "            reversed_no > MAX_INT / 10 or reversed_no < MIN_INT / 10\n",
    "        ):  # MIN_INT / 10: not including units place\n",
    "            return 0\n",
    "        digit = x % 10\n",
    "        x = x // 10\n",
    "        reversed_no = reversed_no * 10 + digit\n",
    "\n",
    "    return sign * reversed_no\n",
    "\n",
    "\n",
    "x = -123123123312313123\n",
    "\n",
    "reverseInt(x)"
   ]
  },
  {
   "cell_type": "code",
   "execution_count": null,
   "metadata": {},
   "outputs": [],
   "source": []
  },
  {
   "cell_type": "code",
   "execution_count": null,
   "metadata": {},
   "outputs": [],
   "source": []
  },
  {
   "cell_type": "markdown",
   "metadata": {},
   "source": [
    "# revserse an array\n"
   ]
  },
  {
   "cell_type": "code",
   "execution_count": null,
   "metadata": {},
   "outputs": [
    {
     "data": {
      "text/plain": [
       "[3, 2, 1]"
      ]
     },
     "execution_count": 21,
     "metadata": {},
     "output_type": "execute_result"
    }
   ],
   "source": [
    "def reverseArray(array):\n",
    "    left = 0\n",
    "    right = len(nums) - 1\n",
    "    while left < right:\n",
    "        nums[left], nums[right] = nums[right], nums[left]\n",
    "        left += 1\n",
    "        right -= 1\n",
    "\n",
    "    return nums\n",
    "\n",
    "\n",
    "nums = [1, 2, 3]\n",
    "reverseArray(nums)"
   ]
  },
  {
   "cell_type": "code",
   "execution_count": null,
   "metadata": {},
   "outputs": [
    {
     "data": {
      "text/plain": [
       "'ers'"
      ]
     },
     "execution_count": 22,
     "metadata": {},
     "output_type": "execute_result"
    }
   ],
   "source": [
    "s = \"sre\"\n",
    "\n",
    "s[::-1]"
   ]
  },
  {
   "cell_type": "code",
   "execution_count": null,
   "metadata": {},
   "outputs": [
    {
     "data": {
      "text/plain": [
       "[[7, 8, 9], [4, 5, 6]]"
      ]
     },
     "execution_count": 30,
     "metadata": {},
     "output_type": "execute_result"
    }
   ],
   "source": [
    "my_list = [[1, 2, 3], [4, 5, 6], [7, 8, 9]]\n",
    "\n",
    "\n",
    "my_list[0:0:-1]"
   ]
  },
  {
   "cell_type": "code",
   "execution_count": null,
   "metadata": {},
   "outputs": [],
   "source": []
  },
  {
   "cell_type": "markdown",
   "metadata": {},
   "source": [
    "## 268. Missing Number\n",
    "\n",
    "Given an array nums containing n distinct numbers in the range [0, n], return the only number in the range that is missing from the array.\n"
   ]
  },
  {
   "cell_type": "code",
   "execution_count": null,
   "metadata": {},
   "outputs": [
    {
     "data": {
      "text/plain": [
       "8"
      ]
     },
     "execution_count": 1,
     "metadata": {},
     "output_type": "execute_result"
    }
   ],
   "source": [
    "def missingNumber(nums):\n",
    "    n = len(nums)\n",
    "    expected_sum = n * (n + 1) // 2\n",
    "    return expected_sum - sum(nums)\n",
    "\n",
    "\n",
    "nums = [9, 6, 4, 2, 3, 5, 7, 0, 1]\n",
    "\n",
    "missingNumber(nums)"
   ]
  },
  {
   "cell_type": "code",
   "execution_count": null,
   "metadata": {},
   "outputs": [],
   "source": []
  },
  {
   "cell_type": "code",
   "execution_count": null,
   "metadata": {},
   "outputs": [],
   "source": []
  },
  {
   "cell_type": "code",
   "execution_count": null,
   "metadata": {},
   "outputs": [],
   "source": [
    "def gcdOfStrings(str1: str, str2: str) -> str:\n",
    "    # Check if concatenated strings are equal or not, if not return \"\"\n",
    "    if str1 + str2 != str2 + str1:\n",
    "        return \"\"\n",
    "    # If strings are equal than return the substring from 0 to gcd of size(str1), size(str2)\n",
    "    from math import gcd\n",
    "\n",
    "    print(f\"s1: {len(str1)}, s2: {len(str2)}\")\n",
    "    return str1[: gcd(len(str1), len(str2))]"
   ]
  },
  {
   "cell_type": "code",
   "execution_count": null,
   "metadata": {},
   "outputs": [],
   "source": [
    "import math\n",
    "from math import gcd\n",
    "\n",
    "gcd(10, 12)"
   ]
  },
  {
   "cell_type": "code",
   "execution_count": null,
   "metadata": {},
   "outputs": [],
   "source": [
    "gcdOfStrings(\"ABABAB\", \"AB\")"
   ]
  },
  {
   "cell_type": "code",
   "execution_count": null,
   "metadata": {},
   "outputs": [],
   "source": []
  },
  {
   "cell_type": "code",
   "execution_count": null,
   "metadata": {},
   "outputs": [],
   "source": []
  },
  {
   "cell_type": "markdown",
   "metadata": {},
   "source": [
    "# sumsTwo\n"
   ]
  },
  {
   "cell_type": "code",
   "execution_count": null,
   "metadata": {},
   "outputs": [],
   "source": [
    "nums = [16, 4, 23, 8, 15, 42, 1, 2]\n",
    "target = 19"
   ]
  },
  {
   "cell_type": "code",
   "execution_count": null,
   "metadata": {},
   "outputs": [],
   "source": [
    "nums.sort()\n",
    "print(nums)"
   ]
  },
  {
   "cell_type": "code",
   "execution_count": null,
   "metadata": {},
   "outputs": [],
   "source": [
    "p = 0\n",
    "q = len(nums) - 1"
   ]
  },
  {
   "cell_type": "code",
   "execution_count": null,
   "metadata": {},
   "outputs": [],
   "source": [
    "nums[q]"
   ]
  },
  {
   "cell_type": "code",
   "execution_count": null,
   "metadata": {},
   "outputs": [],
   "source": [
    "# if( nums[p] + nums[q] > target) and nums[q] > target :\n",
    "#     q-=1"
   ]
  },
  {
   "cell_type": "code",
   "execution_count": null,
   "metadata": {},
   "outputs": [],
   "source": [
    "while nums[p] + nums[q] != target:\n",
    "    #     if( nums[p] + nums[q] > target) and nums[q] > target :\n",
    "    #         q-=1\n",
    "    #     if( nums[p] + nums[q] > target) and nums[q] < target :\n",
    "    #         p+=1\n",
    "    if nums[p] + nums[q] > target:\n",
    "        q -= 1\n",
    "\n",
    "    if nums[q] > target:\n",
    "        q -= 1\n",
    "    if nums[q] < target:\n",
    "        p += 1\n",
    "\n",
    "    print(f\"{nums[p]} + {nums[q]}  = {nums[p] + nums[q]}\")"
   ]
  },
  {
   "cell_type": "code",
   "execution_count": null,
   "metadata": {},
   "outputs": [],
   "source": [
    "if (nums[p] + nums[q] > target) and p < 10:\n",
    "    p += 1"
   ]
  },
  {
   "cell_type": "code",
   "execution_count": null,
   "metadata": {},
   "outputs": [],
   "source": [
    "dict = {}"
   ]
  },
  {
   "cell_type": "code",
   "execution_count": null,
   "metadata": {},
   "outputs": [],
   "source": [
    "nums = [16, 4, 23, 8, 15, 42, 1, 2]\n",
    "target = 58"
   ]
  },
  {
   "cell_type": "code",
   "execution_count": null,
   "metadata": {},
   "outputs": [],
   "source": [
    "nums.sort()\n",
    "print(nums)"
   ]
  },
  {
   "cell_type": "code",
   "execution_count": null,
   "metadata": {},
   "outputs": [],
   "source": [
    "def fn(nums):\n",
    "    for i, val in enumerate(nums):\n",
    "        print([(i, j) for i, j in dict.items()])\n",
    "        if (target - val) in dict.keys():\n",
    "            return (i, dict[target - val])\n",
    "        else:\n",
    "            dict[val] = i\n",
    "\n",
    "\n",
    "fn(nums)"
   ]
  },
  {
   "cell_type": "code",
   "execution_count": null,
   "metadata": {},
   "outputs": [],
   "source": [
    "%%time"
   ]
  },
  {
   "cell_type": "code",
   "execution_count": null,
   "metadata": {},
   "outputs": [],
   "source": [
    "nums = [16, 4, 23, 8, 15, 42, 1, 2]\n",
    "target = 58\n",
    "nums.sort()\n",
    "print(nums)"
   ]
  },
  {
   "cell_type": "code",
   "execution_count": null,
   "metadata": {},
   "outputs": [],
   "source": [
    "%%time\n",
    "\n",
    "\n",
    "def fn(nums):\n",
    "    dic=dict()\n",
    "\n",
    "    for i in range(len(nums)):\n",
    "        if( (target - nums[i]) in dic.keys() ):\n",
    "            return (dic[target - nums[i]], i)\n",
    "        else:\n",
    "            dic[nums[i]] = i\n",
    "fn(nums)        "
   ]
  },
  {
   "cell_type": "code",
   "execution_count": null,
   "metadata": {},
   "outputs": [],
   "source": [
    "%%time\n",
    "\n",
    "\n",
    "def fn(nums):\n",
    "    dic=dict()\n",
    "\n",
    "    for i in range(len(nums)):\n",
    "\n",
    "        rem = target - nums[i]\n",
    "        if( (rem) in dic.keys() ):\n",
    "            return (dic[rem], i)\n",
    "        else:\n",
    "            dic[nums[i]] = i\n",
    "fn(nums)        "
   ]
  },
  {
   "cell_type": "code",
   "execution_count": null,
   "metadata": {},
   "outputs": [],
   "source": [
    "%%time\n",
    "prices = [7,1,5,3,6,4]\n",
    "prices =[1,2]\n",
    "def maxProfit(prices):\n",
    "    buy = prices.index(min(prices))\n",
    "#     print(f\"BUY| day:{buy} , value:{prices[buy]}\")\n",
    "    maxProfit = max(prices[buy:])\n",
    "    sell =  prices.index(maxProfit)+1 if(maxProfit>prices[buy])  else 0   # +1 for 0 indexing\n",
    "#     print(f\"SELL| day:{sell} , value:{prices[sell]}\")\n",
    "    \n",
    "#     \n",
    "    return sell\n",
    "\n",
    "maxProfit(prices) "
   ]
  },
  {
   "cell_type": "code",
   "execution_count": null,
   "metadata": {},
   "outputs": [],
   "source": [
    "%%time\n",
    "prices = [7,1,5,3,6,4]\n",
    "prices =[1,2]\n",
    "def maxProfit(prices):\n",
    "    buy = prices.index(min(prices))\n",
    "    print(f\"BUY| day:{buy} , value:{prices[buy]}\")\n",
    "    sell = prices.index(max(prices[buy:]))\n",
    "#     sell =  prices.index(maxProfit)+1 if(maxProfit>prices[buy])  else 0   # +1 for 0 indexing\n",
    "    print(buy,sell)\n",
    "    profit = prices[sell] - prices[buy]\n",
    "    return profit if(profit) > 0 else 0\n",
    "#     print(f\"SELL| day:{sell} , value:{prices[sell]}\")\n",
    "    \n",
    "#     \n",
    "#     return sell\n",
    "\n",
    "maxProfit(prices) "
   ]
  },
  {
   "cell_type": "code",
   "execution_count": null,
   "metadata": {},
   "outputs": [],
   "source": [
    "# from memory_profiler import profile\n",
    "# @profile(precision=4)\n",
    "\n",
    "\n",
    "prices = [7, 1, 5, 3, 6, 4]\n",
    "prices = [1, 2]\n",
    "margin = 0\n",
    "left = 0\n",
    "right = 1\n",
    "\n",
    "while right < len(prices):\n",
    "    if prices[right] < prices[left]:  # buy at min\n",
    "        left = right\n",
    "    if prices[right] >= prices[left]:\n",
    "        margin = (\n",
    "            prices[right] - prices[left]\n",
    "            if prices[right] - prices[left] > margin\n",
    "            else margin\n",
    "        )\n",
    "\n",
    "        right += 1\n",
    "margin"
   ]
  },
  {
   "cell_type": "code",
   "execution_count": null,
   "metadata": {},
   "outputs": [],
   "source": [
    "# from memory_profiler import profile\n",
    "# @profile(precision=4)\n",
    "\n",
    "\n",
    "prices = [7, 1, 5, 3, 6, 4]\n",
    "prices = [1, 2]\n",
    "margin = 0\n",
    "left = 0\n",
    "right = 1\n",
    "\n",
    "while right < len(prices):\n",
    "    if prices[right] > prices[left]:\n",
    "        margin = max(margin, prices[right] - prices[left])\n",
    "    else:\n",
    "        left += 1\n",
    "    right += 1\n",
    "margin"
   ]
  },
  {
   "cell_type": "code",
   "execution_count": null,
   "metadata": {},
   "outputs": [],
   "source": []
  },
  {
   "cell_type": "code",
   "execution_count": null,
   "metadata": {},
   "outputs": [],
   "source": []
  },
  {
   "cell_type": "code",
   "execution_count": null,
   "metadata": {},
   "outputs": [],
   "source": []
  }
 ],
 "metadata": {
  "kernelspec": {
   "display_name": "Python 3",
   "language": "python",
   "name": "python3"
  },
  "language_info": {
   "codemirror_mode": {
    "name": "ipython",
    "version": 3
   },
   "file_extension": ".py",
   "mimetype": "text/x-python",
   "name": "python",
   "nbconvert_exporter": "python",
   "pygments_lexer": "ipython3",
   "version": "3.12.0"
  }
 },
 "nbformat": 4,
 "nbformat_minor": 2
}
